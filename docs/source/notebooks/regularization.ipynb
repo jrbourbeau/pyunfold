{
 "cells": [
  {
   "cell_type": "markdown",
   "metadata": {},
   "source": [
    "# Smoothing unfolded distributions via spline regularization"
   ]
  },
  {
   "cell_type": "code",
   "execution_count": null,
   "metadata": {},
   "outputs": [],
   "source": [
    "from pyunfold import iterative_unfold\n",
    "from pyunfold.callbacks import Logger"
   ]
  },
  {
   "cell_type": "code",
   "execution_count": null,
   "metadata": {},
   "outputs": [],
   "source": [
    "import numpy as np\n",
    "np.random.seed(2)\n",
    "\n",
    "import matplotlib as mpl\n",
    "mpl.rcParams['font.size'] = 16.0\n",
    "mpl.rcParams['axes.labelsize'] = 16.0\n",
    "mpl.rcParams['axes.titlesize'] = 14.0\n",
    "mpl.rcParams['legend.fontsize'] = 12.0\n",
    "\n",
    "import matplotlib.pyplot as plt \n",
    "\n",
    "%matplotlib inline"
   ]
  },
  {
   "cell_type": "markdown",
   "metadata": {},
   "source": [
    "## Example dataset\n",
    "\n",
    "We'll generate the same example dataset that is used in the [Getting Started tutorial](tutorial.ipynb), i.e. a Gaussian sample that is smeared by some noise."
   ]
  },
  {
   "cell_type": "code",
   "execution_count": null,
   "metadata": {},
   "outputs": [],
   "source": [
    "# True distribution\n",
    "num_samples = int(1e5)\n",
    "true_samples = np.random.normal(loc=10.0, scale=4.0, size=num_samples)\n",
    "bins = np.linspace(0, 20, 21)\n",
    "num_causes = len(bins) - 1\n",
    "data_true, _ = np.histogram(true_samples, bins=bins)\n",
    "\n",
    "# Observed distribution\n",
    "random_noise = np.random.normal(loc=0.3, scale=0.5, size=num_samples)\n",
    "observed_samples = true_samples + random_noise\n",
    "data_observed, _ = np.histogram(observed_samples, bins=bins)\n",
    "data_observed_err = np.sqrt(data_observed)\n",
    "\n",
    "# Efficiencies\n",
    "efficiencies = np.ones_like(data_observed, dtype=float)\n",
    "efficiencies_err = np.full_like(efficiencies, 0.1, dtype=float)\n",
    "\n",
    "# Response matrix\n",
    "response_hist, _, _ = np.histogram2d(observed_samples, true_samples, bins=bins)\n",
    "response_hist_err = np.sqrt(response_hist)\n",
    "\n",
    "# Normalized response\n",
    "column_sums = response_hist.sum(axis=0)\n",
    "normalization_factor = efficiencies / column_sums\n",
    "\n",
    "response = response_hist * normalization_factor\n",
    "response_err = response_hist_err * normalization_factor"
   ]
  },
  {
   "cell_type": "markdown",
   "metadata": {},
   "source": [
    "We can see what the true and observed distributions look like for this example dataset"
   ]
  },
  {
   "cell_type": "code",
   "execution_count": null,
   "metadata": {},
   "outputs": [],
   "source": [
    "fig, ax = plt.subplots(figsize=(10, 8))\n",
    "ax.step(np.arange(num_causes), data_true, where='mid', lw=3,\n",
    "        alpha=0.7, label='True distribution')\n",
    "ax.step(np.arange(num_causes), data_observed, where='mid', lw=3,\n",
    "        alpha=0.7, label='Observed distribution')\n",
    "ax.set(xlabel='Cause bins', ylabel='Counts')\n",
    "ax.legend()\n",
    "plt.show()"
   ]
  },
  {
   "cell_type": "markdown",
   "metadata": {},
   "source": [
    "as well as the normalized response matrix"
   ]
  },
  {
   "cell_type": "code",
   "execution_count": null,
   "metadata": {},
   "outputs": [],
   "source": [
    "fig, ax = plt.subplots(figsize=(10, 8))\n",
    "im = ax.imshow(response, origin='lower')\n",
    "cbar = plt.colorbar(im, label='$P(E_i|C_{\\mu})$')\n",
    "ax.set(xlabel='Cause bins', ylabel='Effect bins',\n",
    "       title='Normalized response matrix')\n",
    "plt.show()"
   ]
  },
  {
   "cell_type": "markdown",
   "metadata": {},
   "source": [
    "## Non-smooth prior"
   ]
  },
  {
   "cell_type": "markdown",
   "metadata": {},
   "source": [
    "In many experimental setups, we expect the true cause distribution to be fairly smooth.\n",
    "What if we try some bumpy, potentially *non-smooth* prior?"
   ]
  },
  {
   "cell_type": "code",
   "execution_count": null,
   "metadata": {},
   "outputs": [],
   "source": [
    "from pyunfold.priors import uniform_prior"
   ]
  },
  {
   "cell_type": "code",
   "execution_count": null,
   "metadata": {},
   "outputs": [],
   "source": [
    "# Uniform prior\n",
    "uni_prior = uniform_prior(num_causes)"
   ]
  },
  {
   "cell_type": "code",
   "execution_count": null,
   "metadata": {},
   "outputs": [],
   "source": [
    "# Random bumpy prior\n",
    "bumpy_prior = np.abs(np.random.normal(loc=1, scale=0.23, size=num_causes))\n",
    "bumpy_prior = bumpy_prior / bumpy_prior.sum()"
   ]
  },
  {
   "cell_type": "code",
   "execution_count": null,
   "metadata": {},
   "outputs": [],
   "source": [
    "fig, ax = plt.subplots(figsize=(10, 8))\n",
    "plt.step(np.arange(num_causes), uni_prior, where='mid', lw=3,\n",
    "         alpha=0.7, label='Uniform')\n",
    "plt.step(np.arange(num_causes), bumpy_prior, where='mid', lw=3,\n",
    "         alpha=0.7, label='Bumpy')\n",
    "\n",
    "plt.title('Priors')\n",
    "plt.xlabel('Cause bin')\n",
    "plt.ylabel('$P(C_{\\mu})$')\n",
    "plt.ylim(0, 0.09)\n",
    "plt.legend()\n",
    "plt.show()"
   ]
  },
  {
   "cell_type": "code",
   "execution_count": null,
   "metadata": {},
   "outputs": [],
   "source": [
    "print(\"Running with bumpy prior...\")\n",
    "unfolded_results_bumpy = iterative_unfold(data=data_observed,\n",
    "                                          data_err=data_observed_err,\n",
    "                                          response=response,\n",
    "                                          response_err=response_err,\n",
    "                                          efficiencies=efficiencies,\n",
    "                                          efficiencies_err=efficiencies_err,\n",
    "                                          prior=bumpy_prior,\n",
    "                                          ts='ks',\n",
    "                                          ts_stopping=0.01,\n",
    "                                          callbacks=[Logger()])\n",
    "\n",
    "print('\\nRunning with uniform prior...')\n",
    "unfolded_uniform = iterative_unfold(data=data_observed,\n",
    "                                    data_err=data_observed_err,\n",
    "                                    response=response,\n",
    "                                    response_err=response_err,\n",
    "                                    efficiencies=efficiencies,\n",
    "                                    efficiencies_err=efficiencies_err,\n",
    "                                    ts='ks',\n",
    "                                    ts_stopping=0.01,\n",
    "                                    callbacks=[Logger()])"
   ]
  },
  {
   "cell_type": "code",
   "execution_count": null,
   "metadata": {},
   "outputs": [],
   "source": [
    "fig, ax = plt.subplots(figsize=(10, 8))\n",
    "plt.step(np.arange(num_causes), data_true, where='mid', lw=3,\n",
    "         alpha=0.7,\n",
    "         label='True distribution')\n",
    "\n",
    "plt.errorbar(np.arange(num_causes), unfolded_uniform['unfolded'],\n",
    "             yerr=unfolded_uniform['sys_err'],\n",
    "             alpha=0.7,\n",
    "             elinewidth=3,\n",
    "             capsize=4,\n",
    "             ls='None', marker='.', ms=10, \n",
    "             label='Unfolded - Uniform Prior')\n",
    "\n",
    "plt.errorbar(np.arange(num_causes), unfolded_results_bumpy['unfolded'],\n",
    "             yerr=unfolded_results_bumpy['sys_err'],\n",
    "             alpha=0.7,\n",
    "             elinewidth=3,\n",
    "             capsize=4,\n",
    "             ls='None', marker='.', ms=10, \n",
    "             label='Unfolded - Bumpy Prior')\n",
    "\n",
    "plt.xlabel('Cause bins')\n",
    "plt.ylabel('Counts')\n",
    "plt.legend(loc='best', frameon=True)\n",
    "plt.show()"
   ]
  },
  {
   "cell_type": "markdown",
   "metadata": {},
   "source": [
    "Clearly, the non-smooth initial prior has a **strong** influence on the unfolded spectrum. \n",
    "This is one potential pitfall: the initial prior *informs* the procedure as to what properties we think the true distribution has. Unlike for the uniform case, the bumpy prior tells the unfolding algorithm that the true distribution may be bumpy, so the results are also bumpy."
   ]
  },
  {
   "cell_type": "markdown",
   "metadata": {},
   "source": [
    "## Regularization\n",
    "\n",
    "We can try to ameliorate this bumpiness by smoothing or regularizing during the unfolding procedure.\n",
    "Here, we can tune the univariate `SplineRegularizer` routine accessible from the `pyunfold.callbacks` module."
   ]
  },
  {
   "cell_type": "code",
   "execution_count": null,
   "metadata": {},
   "outputs": [],
   "source": [
    "from pyunfold.callbacks import SplineRegularizer"
   ]
  },
  {
   "cell_type": "code",
   "execution_count": null,
   "metadata": {},
   "outputs": [],
   "source": [
    "spline_reg = SplineRegularizer(degree=2, smooth=5e6)"
   ]
  },
  {
   "cell_type": "code",
   "execution_count": null,
   "metadata": {},
   "outputs": [],
   "source": [
    "unfolded_results_bumpy_reg = iterative_unfold(data=data_observed,\n",
    "                                              data_err=data_observed_err,\n",
    "                                              response=response,\n",
    "                                              response_err=response_err,\n",
    "                                              efficiencies=efficiencies,\n",
    "                                              efficiencies_err=efficiencies_err,\n",
    "                                              prior=bumpy_prior,\n",
    "                                              ts='ks',\n",
    "                                              ts_stopping=0.01,\n",
    "                                              callbacks=[Logger(), spline_reg])"
   ]
  },
  {
   "cell_type": "code",
   "execution_count": null,
   "metadata": {},
   "outputs": [],
   "source": [
    "fig, ax = plt.subplots(figsize=(10, 8))\n",
    "plt.step(np.arange(num_causes), data_true, where='mid', lw=3,\n",
    "         alpha=0.7,\n",
    "         label='True distribution')\n",
    "\n",
    "plt.errorbar(np.arange(num_causes), unfolded_results_bumpy['unfolded'],\n",
    "             yerr=unfolded_results_bumpy['sys_err'],\n",
    "             alpha=0.7,\n",
    "             elinewidth=3,\n",
    "             capsize=4,\n",
    "             ls='None', marker='.', ms=10, \n",
    "             label='No Regularization')\n",
    "\n",
    "plt.errorbar(np.arange(num_causes), unfolded_results_bumpy_reg['unfolded'],\n",
    "             yerr=unfolded_results_bumpy_reg['sys_err'],\n",
    "             alpha=0.7, \n",
    "             elinewidth=3,\n",
    "             capsize=4,\n",
    "             ls='None', marker='.', ms=10, \n",
    "             label='With Regularization')\n",
    "\n",
    "plt.title('Bumpy Initial Priors')\n",
    "plt.xlabel('Cause bins')\n",
    "plt.ylabel('Counts')\n",
    "plt.legend(loc='best', frameon=True)\n",
    "plt.show()"
   ]
  },
  {
   "cell_type": "markdown",
   "metadata": {},
   "source": [
    "The regularized unfolded result is indeed more consistent with the true distribution, but at the cost of taking a couple of extra iterations to converge, and thus has slightly larger uncertainties due to more mixing.\n",
    "\n",
    "For this example, a strong regularization parameter (`smooth = 5e6`) was needed to return consistent unfolded results. Assuming a smooth initial prior is the proper way to avoid this potential issue, unless one does indeed have overriding assumptions regarding smoothness."
   ]
  },
  {
   "cell_type": "code",
   "execution_count": null,
   "metadata": {},
   "outputs": [],
   "source": []
  },
  {
   "cell_type": "code",
   "execution_count": null,
   "metadata": {},
   "outputs": [],
   "source": []
  },
  {
   "cell_type": "code",
   "execution_count": null,
   "metadata": {},
   "outputs": [],
   "source": []
  }
 ],
 "metadata": {
  "kernelspec": {
   "display_name": "Python 3",
   "language": "python",
   "name": "python3"
  },
  "language_info": {
   "codemirror_mode": {
    "name": "ipython",
    "version": 3
   },
   "file_extension": ".py",
   "mimetype": "text/x-python",
   "name": "python",
   "nbconvert_exporter": "python",
   "pygments_lexer": "ipython3",
   "version": "3.6.4"
  }
 },
 "nbformat": 4,
 "nbformat_minor": 2
}
