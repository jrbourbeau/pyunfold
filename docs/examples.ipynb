{
 "cells": [
  {
   "cell_type": "markdown",
   "metadata": {},
   "source": [
    "# PyUnfold Examples"
   ]
  },
  {
   "cell_type": "markdown",
   "metadata": {},
   "source": [
    "The notebook containing these examples can be found on the [PyUnfold GitHub repository](https://github.com/jrbourbeau/pyunfold/tree/master/docs/examples.ipynb)."
   ]
  },
  {
   "cell_type": "code",
   "execution_count": null,
   "metadata": {},
   "outputs": [],
   "source": [
    "from pyunfold import iterative_unfold"
   ]
  },
  {
   "cell_type": "code",
   "execution_count": null,
   "metadata": {},
   "outputs": [],
   "source": [
    "import numpy as np\n",
    "import pandas as pd\n",
    "import matplotlib.pyplot as plt\n",
    "import seaborn as sns\n",
    "np.random.seed(2)\n",
    "%matplotlib inline"
   ]
  },
  {
   "cell_type": "markdown",
   "metadata": {},
   "source": [
    "## Example 1: Two-bin case\n",
    "\n",
    "The simplest unfolding case consists of observing a number of counts for two classes of observations, class 1 and class 2. "
   ]
  },
  {
   "cell_type": "markdown",
   "metadata": {},
   "source": [
    "### Observed distribution\n",
    "\n",
    "These observations should be formatted in an array-like object (e.g. `list`, `tuple`, `numpy.ndarray`, etc.). In this example, there are 100 observations of class 1 and 150 observations of class 2."
   ]
  },
  {
   "cell_type": "code",
   "execution_count": null,
   "metadata": {},
   "outputs": [],
   "source": [
    "data = [100, 150]"
   ]
  },
  {
   "cell_type": "markdown",
   "metadata": {},
   "source": [
    "Note that here, the first item in `data` corresponds to class 1 while the second item corresponds to class 2. This ordering is important and should be consistent throughout. "
   ]
  },
  {
   "cell_type": "markdown",
   "metadata": {},
   "source": [
    "The error for these observations is also needed for unfolding. Here, we'll assume the errors are simply Poisson counting errors (i.e. $\\mathrm{error_{i} = \\sqrt{counts_{i}}}$)."
   ]
  },
  {
   "cell_type": "code",
   "execution_count": null,
   "metadata": {},
   "outputs": [],
   "source": [
    "data_err = np.sqrt(data)"
   ]
  },
  {
   "cell_type": "code",
   "execution_count": null,
   "metadata": {},
   "outputs": [],
   "source": [
    "labels = ['Class 1', 'Class 2']\n",
    "sns.barplot(labels, data, palette=\"viridis\")\n",
    "plt.ylabel('Observed distribution')\n",
    "plt.show()"
   ]
  },
  {
   "cell_type": "markdown",
   "metadata": {},
   "source": [
    "### Response matrix\n",
    "\n",
    "However, these quality of these observations are not perfect. Sometimes they are incorrect (i.e. a patricular observation of class 1 gets misidentified as belonging to class 2 and vice versa). These misidentifications are encapsulated in the response matrix. "
   ]
  },
  {
   "cell_type": "code",
   "execution_count": null,
   "metadata": {},
   "outputs": [],
   "source": [
    "response = [[0.9, 0.15],\n",
    "            [0.1, 0.85]]\n",
    "response_err = [[0.01, 0.01],\n",
    "                [0.01, 0.01]]"
   ]
  },
  {
   "cell_type": "code",
   "execution_count": null,
   "metadata": {},
   "outputs": [],
   "source": [
    "sns.heatmap(response, annot=True, cmap='viridis',\n",
    "            xticklabels=labels, yticklabels=labels,\n",
    "            vmin=0, vmax=1)\n",
    "plt.show()"
   ]
  },
  {
   "cell_type": "markdown",
   "metadata": {},
   "source": [
    "### Detection efficiencies"
   ]
  },
  {
   "cell_type": "code",
   "execution_count": null,
   "metadata": {},
   "outputs": [],
   "source": [
    "efficiencies = [1.0, 1.0]\n",
    "efficiencies_err = [0.01, 0.01]"
   ]
  },
  {
   "cell_type": "markdown",
   "metadata": {},
   "source": [
    "### Perform iterative unfolding"
   ]
  },
  {
   "cell_type": "code",
   "execution_count": null,
   "metadata": {},
   "outputs": [],
   "source": [
    "unfolded_results = iterative_unfold(data, data_err,\n",
    "                                    response, response_err,\n",
    "                                    efficiencies, efficiencies_err)"
   ]
  },
  {
   "cell_type": "code",
   "execution_count": null,
   "metadata": {},
   "outputs": [],
   "source": [
    "unfolded_results"
   ]
  },
  {
   "cell_type": "code",
   "execution_count": null,
   "metadata": {},
   "outputs": [],
   "source": [
    "unfolded_dist = unfolded_results['unfolded']\n",
    "unfolded_dist"
   ]
  },
  {
   "cell_type": "code",
   "execution_count": null,
   "metadata": {},
   "outputs": [],
   "source": [
    "sns.barplot(labels, unfolded_dist, palette=\"viridis\")\n",
    "plt.ylabel('Unfolded distribution')\n",
    "plt.show()"
   ]
  },
  {
   "cell_type": "markdown",
   "metadata": {},
   "source": [
    "Comparing the observed and unfolded counts distributions for each class."
   ]
  },
  {
   "cell_type": "code",
   "execution_count": null,
   "metadata": {},
   "outputs": [],
   "source": [
    "df = pd.DataFrame({'label': 2*labels,\n",
    "                   'dist': list(data) + list(unfolded_dist),\n",
    "                   'type': ['Observed', 'Observed', 'Unfolded', 'Unfolded']})\n",
    "sns.factorplot(x='label', y='dist', data=df,\n",
    "               hue='type', kind='bar', palette='viridis',\n",
    "               legend=False)\n",
    "plt.xlabel('')\n",
    "plt.ylabel('Distributions')\n",
    "plt.legend()\n",
    "plt.show()"
   ]
  },
  {
   "cell_type": "markdown",
   "metadata": {},
   "source": [
    "## Example 2: Multi-bin case"
   ]
  },
  {
   "cell_type": "markdown",
   "metadata": {},
   "source": [
    "### True and observed distributions"
   ]
  },
  {
   "cell_type": "code",
   "execution_count": null,
   "metadata": {},
   "outputs": [],
   "source": [
    "num_samples = int(1e5)\n",
    "true_samples = np.random.normal(loc=0.0, scale=1.0, size=num_samples)"
   ]
  },
  {
   "cell_type": "markdown",
   "metadata": {},
   "source": [
    "For this example, the observed (measured) samples are the true samples with some random Gaussian noise added."
   ]
  },
  {
   "cell_type": "code",
   "execution_count": null,
   "metadata": {},
   "outputs": [],
   "source": [
    "random_noise = np.random.normal(loc=0.3, scale=0.5, size=num_samples)\n",
    "observed_samples = true_samples + random_noise"
   ]
  },
  {
   "cell_type": "code",
   "execution_count": null,
   "metadata": {},
   "outputs": [],
   "source": [
    "bins = np.linspace(-3, 3, 21)"
   ]
  },
  {
   "cell_type": "code",
   "execution_count": null,
   "metadata": {},
   "outputs": [],
   "source": [
    "plt.hist(true_samples, bins=bins, histtype='step', lw=3,\n",
    "         alpha=0.7, label='True distribution')\n",
    "plt.hist(observed_samples, bins=bins, histtype='step', lw=3,\n",
    "         alpha=0.7, label='Observed distribution')\n",
    "plt.xlabel('X')\n",
    "plt.ylabel('Counts')\n",
    "plt.legend()\n",
    "plt.show()"
   ]
  },
  {
   "cell_type": "code",
   "execution_count": null,
   "metadata": {},
   "outputs": [],
   "source": [
    "data_true, _ = np.histogram(true_samples, bins=bins)\n",
    "data_true = np.array(data_true, dtype=float)\n",
    "data_true"
   ]
  },
  {
   "cell_type": "code",
   "execution_count": null,
   "metadata": {},
   "outputs": [],
   "source": [
    "data_observed, _ = np.histogram(observed_samples, bins=bins)\n",
    "data_observed"
   ]
  },
  {
   "cell_type": "markdown",
   "metadata": {},
   "source": [
    "Statistical Poisson errors"
   ]
  },
  {
   "cell_type": "code",
   "execution_count": null,
   "metadata": {},
   "outputs": [],
   "source": [
    "data_observed_err = np.sqrt(data_observed)\n",
    "data_observed_err"
   ]
  },
  {
   "cell_type": "markdown",
   "metadata": {},
   "source": [
    "### Response matrix"
   ]
  },
  {
   "cell_type": "code",
   "execution_count": null,
   "metadata": {},
   "outputs": [],
   "source": [
    "response, _, _ = np.histogram2d(observed_samples, true_samples, bins=bins)\n",
    "response_err = np.sqrt(response)"
   ]
  },
  {
   "cell_type": "markdown",
   "metadata": {},
   "source": [
    "Column normalize the response matrix to give $P(E|C)$"
   ]
  },
  {
   "cell_type": "code",
   "execution_count": null,
   "metadata": {},
   "outputs": [],
   "source": [
    "response = response / response.sum(axis=0)\n",
    "response_err = response_err / response.sum(axis=0)"
   ]
  },
  {
   "cell_type": "code",
   "execution_count": null,
   "metadata": {},
   "outputs": [],
   "source": [
    "plt.imshow(response)\n",
    "plt.colorbar()\n",
    "plt.show()"
   ]
  },
  {
   "cell_type": "markdown",
   "metadata": {},
   "source": [
    "### Efficiencies\n",
    "\n",
    "For now, we'll assume uniform efficiencies of 1."
   ]
  },
  {
   "cell_type": "code",
   "execution_count": null,
   "metadata": {},
   "outputs": [],
   "source": [
    "efficiencies = response.sum(axis=0)\n",
    "efficiencies"
   ]
  },
  {
   "cell_type": "code",
   "execution_count": null,
   "metadata": {},
   "outputs": [],
   "source": [
    "efficiencies_err = np.full_like(efficiencies, 0.1, dtype=float)\n",
    "efficiencies_err"
   ]
  },
  {
   "cell_type": "markdown",
   "metadata": {},
   "source": [
    "### Perform iterative unfolding"
   ]
  },
  {
   "cell_type": "code",
   "execution_count": null,
   "metadata": {},
   "outputs": [],
   "source": [
    "unfolded_results = iterative_unfold(data=data_observed,\n",
    "                                    data_err=data_observed_err,\n",
    "                                    response=response,\n",
    "                                    response_err=response_err,\n",
    "                                    efficiencies=efficiencies,\n",
    "                                    efficiencies_err=efficiencies_err,\n",
    "                                    ts='ks',\n",
    "                                    ts_stopping=0.001)"
   ]
  },
  {
   "cell_type": "code",
   "execution_count": null,
   "metadata": {},
   "outputs": [],
   "source": [
    "unfolded_results"
   ]
  },
  {
   "cell_type": "markdown",
   "metadata": {},
   "source": [
    "Comparison of true, observed, and unfolded distributions"
   ]
  },
  {
   "cell_type": "code",
   "execution_count": null,
   "metadata": {},
   "outputs": [],
   "source": [
    "bin_midpoints = (bins[1:] + bins[:-1]) / 2\n",
    "plt.hist(true_samples, bins=bins, histtype='step', lw=3,\n",
    "         alpha=0.7,\n",
    "         label='True distribution')\n",
    "plt.hist(observed_samples, bins=bins, histtype='step', lw=3,\n",
    "         alpha=0.7,\n",
    "         label='Observed distribution')\n",
    "\n",
    "plt.errorbar(bin_midpoints, unfolded_results['unfolded'],\n",
    "             yerr=unfolded_results['sys_err'],\n",
    "             alpha=0.8,\n",
    "             elinewidth=2,\n",
    "             capsize=3,\n",
    "             ls='None', marker='o', ms=5, \n",
    "             label='Unfolded distribution')\n",
    "\n",
    "plt.xlabel('X')\n",
    "plt.ylabel('Counts')\n",
    "plt.legend()\n",
    "plt.show()"
   ]
  },
  {
   "cell_type": "code",
   "execution_count": null,
   "metadata": {},
   "outputs": [],
   "source": []
  },
  {
   "cell_type": "code",
   "execution_count": null,
   "metadata": {},
   "outputs": [],
   "source": []
  }
 ],
 "metadata": {
  "kernelspec": {
   "display_name": "Python 3",
   "language": "python",
   "name": "python3"
  },
  "language_info": {
   "codemirror_mode": {
    "name": "ipython",
    "version": 3
   },
   "file_extension": ".py",
   "mimetype": "text/x-python",
   "name": "python",
   "nbconvert_exporter": "python",
   "pygments_lexer": "ipython3",
   "version": "3.6.5"
  }
 },
 "nbformat": 4,
 "nbformat_minor": 2
}
